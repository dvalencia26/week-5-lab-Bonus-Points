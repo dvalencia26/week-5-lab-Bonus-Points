{
  "nbformat": 4,
  "nbformat_minor": 0,
  "metadata": {
    "colab": {
      "provenance": [],
      "include_colab_link": true
    },
    "kernelspec": {
      "name": "python3",
      "display_name": "Python 3"
    },
    "language_info": {
      "name": "python"
    }
  },
  "cells": [
    {
      "cell_type": "markdown",
      "metadata": {
        "id": "view-in-github",
        "colab_type": "text"
      },
      "source": [
        "<a href=\"https://colab.research.google.com/github/dvalencia26/week-5-lab-Bonus-Points/blob/main/Pandas_Basic.ipynb\" target=\"_parent\"><img src=\"https://colab.research.google.com/assets/colab-badge.svg\" alt=\"Open In Colab\"/></a>"
      ]
    },
    {
      "cell_type": "markdown",
      "source": [
        "# Basic Introduction:\n",
        "pandas is an open-source Python library that provides high-performance, easy-to-use data structures, and data analysis tools.\n",
        "DataFrame: A 2-dimensional labeled data structure with columns that can be of different types. Think of it like a spreadsheet or SQL table.\n",
        "\n",
        "#Important Concepts:\n",
        "1. Creating a DataFrame:"
      ],
      "metadata": {
        "id": "3Ru3RpaPfBCA"
      }
    },
    {
      "cell_type": "code",
      "source": [
        "import pandas as pd\n",
        "\n",
        "data = {\n",
        "    'A': [1, 2, 3],\n",
        "    'B': [4, 5, 6],\n",
        "    'C': ['p', 'q', 'r']\n",
        "}\n",
        "df = pd.DataFrame(data)"
      ],
      "metadata": {
        "id": "5yTQEKhqfRGV"
      },
      "execution_count": null,
      "outputs": []
    },
    {
      "cell_type": "markdown",
      "source": [
        "2. Viewing Data:\n",
        "Head: Returns the first n rows (default is 5)."
      ],
      "metadata": {
        "id": "Z_5pKcuNfKdb"
      }
    },
    {
      "cell_type": "code",
      "source": [
        "df.head(n=3)"
      ],
      "metadata": {
        "id": "fchJklfOfWAv"
      },
      "execution_count": null,
      "outputs": []
    },
    {
      "cell_type": "markdown",
      "source": [
        "3. Getting a column (returns a Series):\n"
      ],
      "metadata": {
        "id": "8rN3mf4EfmhM"
      }
    },
    {
      "cell_type": "code",
      "source": [
        "column_A = df['A']\n"
      ],
      "metadata": {
        "id": "4xMkbq6wfwdP"
      },
      "execution_count": null,
      "outputs": []
    },
    {
      "cell_type": "markdown",
      "source": [
        "4. Getting multiple columns (returns a DataFrame):\n"
      ],
      "metadata": {
        "id": "gawBoRb7fyE9"
      }
    },
    {
      "cell_type": "code",
      "source": [
        "columns_A_B = df[['A', 'B']]\n"
      ],
      "metadata": {
        "id": "J7tc-_yhfz8J"
      },
      "execution_count": null,
      "outputs": []
    },
    {
      "cell_type": "markdown",
      "source": [
        "5. Getting a row by index (using iloc):"
      ],
      "metadata": {
        "id": "vwLqyuSjf2Ez"
      }
    },
    {
      "cell_type": "code",
      "source": [
        "row_0 = df.iloc[0]  # gets the first row\n"
      ],
      "metadata": {
        "id": "7T-OTeJnf5rB"
      },
      "execution_count": null,
      "outputs": []
    },
    {
      "cell_type": "markdown",
      "source": [
        "6. Getting multiple rows:\n"
      ],
      "metadata": {
        "id": "FO7LC_q7f7oc"
      }
    },
    {
      "cell_type": "code",
      "source": [
        "rows_0_and_1 = df.iloc[0:2]  # gets the first two rows\n"
      ],
      "metadata": {
        "id": "CADooo1ff9LT"
      },
      "execution_count": null,
      "outputs": []
    },
    {
      "cell_type": "markdown",
      "source": [
        "Filtering data:\n"
      ],
      "metadata": {
        "id": "vRvxQaulgAGk"
      }
    },
    {
      "cell_type": "code",
      "source": [
        "filtered_df = df[df['B'] > 4]  # gets rows where column B has values greater than 4"
      ],
      "metadata": {
        "id": "vBJVTSFjgHLY"
      },
      "execution_count": null,
      "outputs": []
    },
    {
      "cell_type": "markdown",
      "source": [
        " Descriptive statistics:"
      ],
      "metadata": {
        "id": "wRLDz158gOMs"
      }
    },
    {
      "cell_type": "code",
      "source": [
        "stats = df.describe()"
      ],
      "metadata": {
        "id": "vGRJ2iaBgP8s"
      },
      "execution_count": null,
      "outputs": []
    },
    {
      "cell_type": "markdown",
      "source": [
        "Dropping a column:"
      ],
      "metadata": {
        "id": "gYRoHupFgSuX"
      }
    },
    {
      "cell_type": "markdown",
      "source": [
        "df.drop(columns=['C'], inplace=True)"
      ],
      "metadata": {
        "id": "IQfEmEOFgUJE"
      }
    },
    {
      "cell_type": "markdown",
      "source": [
        "Adding a new column:"
      ],
      "metadata": {
        "id": "wBb8IKx8gV57"
      }
    },
    {
      "cell_type": "code",
      "source": [
        "df['D'] = [7, 8, 9]"
      ],
      "metadata": {
        "id": "hcFVn3i4gXMz"
      },
      "execution_count": null,
      "outputs": []
    },
    {
      "cell_type": "markdown",
      "source": [
        "Renaming columns"
      ],
      "metadata": {
        "id": "96TR5idLgcES"
      }
    },
    {
      "cell_type": "code",
      "source": [
        "df.rename(columns={'D': 'E'}, inplace=True)"
      ],
      "metadata": {
        "id": "sZ_iaCS4gdpG"
      },
      "execution_count": null,
      "outputs": []
    },
    {
      "cell_type": "markdown",
      "source": [
        "Filtering rows based on a column's condition:"
      ],
      "metadata": {
        "id": "Dmzzutfngryw"
      }
    },
    {
      "cell_type": "code",
      "source": [
        "filtered_df = df[df['A'] > some_value]"
      ],
      "metadata": {
        "id": "3kFCS1mngtWr"
      },
      "execution_count": null,
      "outputs": []
    },
    {
      "cell_type": "markdown",
      "source": [
        "Sort Values: Sorts the DataFrame based on one or more columns."
      ],
      "metadata": {
        "id": "-Nlj-e4qgwwO"
      }
    },
    {
      "cell_type": "code",
      "source": [
        "sorted_df = df.sort_values(by='C')"
      ],
      "metadata": {
        "id": "qyY5pKdGgyUS"
      },
      "execution_count": null,
      "outputs": []
    },
    {
      "cell_type": "markdown",
      "source": [
        "Using multiple conditions:"
      ],
      "metadata": {
        "id": "en7HOw3Ag5G5"
      }
    },
    {
      "cell_type": "code",
      "source": [
        "condition_df = df[(df['A'] > 2) & (df['B'] < 4)]"
      ],
      "metadata": {
        "colab": {
          "base_uri": "https://localhost:8080/",
          "height": 176
        },
        "id": "Y-ctXC99g6Un",
        "outputId": "98debc70-cf2f-4220-bfc1-8e74515a5ecb"
      },
      "execution_count": null,
      "outputs": [
        {
          "output_type": "error",
          "ename": "NameError",
          "evalue": "ignored",
          "traceback": [
            "\u001b[0;31m---------------------------------------------------------------------------\u001b[0m",
            "\u001b[0;31mNameError\u001b[0m                                 Traceback (most recent call last)",
            "\u001b[0;32m<ipython-input-4-70f02c15850f>\u001b[0m in \u001b[0;36m<cell line: 1>\u001b[0;34m()\u001b[0m\n\u001b[0;32m----> 1\u001b[0;31m \u001b[0mcondition_df\u001b[0m \u001b[0;34m=\u001b[0m \u001b[0mdf\u001b[0m\u001b[0;34m[\u001b[0m\u001b[0;34m(\u001b[0m\u001b[0mdf\u001b[0m\u001b[0;34m[\u001b[0m\u001b[0;34m'A'\u001b[0m\u001b[0;34m]\u001b[0m \u001b[0;34m>\u001b[0m \u001b[0;36m2\u001b[0m\u001b[0;34m)\u001b[0m \u001b[0;34m&\u001b[0m \u001b[0;34m(\u001b[0m\u001b[0mdf\u001b[0m\u001b[0;34m[\u001b[0m\u001b[0;34m'B'\u001b[0m\u001b[0;34m]\u001b[0m \u001b[0;34m<\u001b[0m \u001b[0;36m4\u001b[0m\u001b[0;34m)\u001b[0m\u001b[0;34m]\u001b[0m\u001b[0;34m\u001b[0m\u001b[0;34m\u001b[0m\u001b[0m\n\u001b[0m",
            "\u001b[0;31mNameError\u001b[0m: name 'df' is not defined"
          ]
        }
      ]
    },
    {
      "cell_type": "markdown",
      "source": [
        "Merge: Combines DataFrames based on common columns.\n",
        "\n",
        "Scenario: Imagine we have data about students and the courses they've taken. We want to merge the two datasets based on the student's ID and the course code.\n",
        "\n",
        "Sample DataFrames:\n",
        "DataFrame 1:\n",
        "\n",
        "|StudentID|\tCourseCode|\tStudentName\t|Age|\n",
        "|---------|-----------|-------------|---|\n",
        "|101|\tMAT101|\tAlice|\t20|\n",
        "|102|\tPHY102|\tBob|\t21|\n",
        "|103|\tCHE103|\tCharlie|\t19|\n",
        "|104|\tMAT101|\tDavid|\t22|\n",
        "\n",
        "DataFrame 2: df2 (Course details)\n",
        "\n",
        "|CourseCode|InstructorName|\tRoom|\n",
        "|----------|--------------|-----|\n",
        "|MAT101|\tMr. Smith|\t101|\n",
        "|PHY102|\tMs. Johnson|\t102|\n",
        "|CHE103|\tDr. Brown|\t103|\n",
        "|BIO104|\tMrs. Davis|\t104|\n"
      ],
      "metadata": {
        "id": "jW2ou2m6hBoG"
      }
    },
    {
      "cell_type": "code",
      "source": [
        "import pandas as pd\n",
        "\n",
        "# Setting up df1\n",
        "data1 = {\n",
        "    'StudentID': [101, 102, 103, 104],\n",
        "    'CourseCode': ['MAT101', 'PHY102', 'CHE103', 'MAT101'],\n",
        "    'StudentName': ['Alice', 'Bob', 'Charlie', 'David'],\n",
        "    'Age': [20, 21, 19, 22]\n",
        "}\n",
        "df1 = pd.DataFrame(data1)\n",
        "\n",
        "# Setting up df2\n",
        "data2 = {\n",
        "    'CourseCode': ['MAT101', 'PHY102', 'CHE103', 'BIO104'],\n",
        "    'InstructorName': ['Mr. Smith', 'Ms. Johnson', 'Dr. Brown', 'Mrs. Davis'],\n",
        "    'Room': [101, 102, 103, 104]\n",
        "}\n",
        "df2 = pd.DataFrame(data2)\n",
        "\n",
        "# Merging the two DataFrames on 'StudentID' and 'CourseCode'\n",
        "merged_df = pd.merge(df1, df2, on=['CourseCode', 'CourseCode'])\n",
        "print (merged_df)"
      ],
      "metadata": {
        "id": "3BDs706LhBUq"
      },
      "execution_count": null,
      "outputs": []
    }
  ]
}